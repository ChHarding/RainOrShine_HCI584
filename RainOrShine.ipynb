{
 "cells": [
  {
   "cell_type": "code",
   "execution_count": 1,
   "metadata": {},
   "outputs": [
    {
     "name": "stdout",
     "output_type": "stream",
     "text": [
      "Defaulting to user installation because normal site-packages is not writeable\n",
      "Requirement already satisfied: opencage in /Users/tali/Library/Python/3.9/lib/python/site-packages (2.2.0)\n",
      "Requirement already satisfied: pandas in /Users/tali/Library/Python/3.9/lib/python/site-packages (2.0.2)\n",
      "Requirement already satisfied: plotly in /Users/tali/Library/Python/3.9/lib/python/site-packages (5.14.1)\n",
      "Requirement already satisfied: requests in /Users/tali/Library/Python/3.9/lib/python/site-packages (2.31.0)\n",
      "Requirement already satisfied: backoff>=1.10.0 in /Users/tali/Library/Python/3.9/lib/python/site-packages (from opencage) (2.2.1)\n",
      "Requirement already satisfied: pytz>=2020.1 in /Users/tali/Library/Python/3.9/lib/python/site-packages (from pandas) (2023.3)\n",
      "Requirement already satisfied: numpy>=1.20.3 in /Users/tali/Library/Python/3.9/lib/python/site-packages (from pandas) (1.24.3)\n",
      "Requirement already satisfied: python-dateutil>=2.8.2 in /Users/tali/Library/Python/3.9/lib/python/site-packages (from pandas) (2.8.2)\n",
      "Requirement already satisfied: tzdata>=2022.1 in /Users/tali/Library/Python/3.9/lib/python/site-packages (from pandas) (2023.3)\n",
      "Requirement already satisfied: packaging in /Users/tali/Library/Python/3.9/lib/python/site-packages (from plotly) (23.1)\n",
      "Requirement already satisfied: tenacity>=6.2.0 in /Users/tali/Library/Python/3.9/lib/python/site-packages (from plotly) (8.2.2)\n",
      "Requirement already satisfied: certifi>=2017.4.17 in /Users/tali/Library/Python/3.9/lib/python/site-packages (from requests) (2023.5.7)\n",
      "Requirement already satisfied: urllib3<3,>=1.21.1 in /Users/tali/Library/Python/3.9/lib/python/site-packages (from requests) (1.26.6)\n",
      "Requirement already satisfied: idna<4,>=2.5 in /Users/tali/Library/Python/3.9/lib/python/site-packages (from requests) (3.4)\n",
      "Requirement already satisfied: charset-normalizer<4,>=2 in /Users/tali/Library/Python/3.9/lib/python/site-packages (from requests) (3.1.0)\n",
      "Requirement already satisfied: six>=1.5 in /Library/Developer/CommandLineTools/Library/Frameworks/Python3.framework/Versions/3.9/lib/python3.9/site-packages (from python-dateutil>=2.8.2->pandas) (1.15.0)\n",
      "\u001b[33mWARNING: You are using pip version 21.2.4; however, version 23.1.2 is available.\n",
      "You should consider upgrading via the '/Library/Developer/CommandLineTools/usr/bin/python3 -m pip install --upgrade pip' command.\u001b[0m\n",
      "Note: you may need to restart the kernel to use updated packages.\n"
     ]
    }
   ],
   "source": [
    "%pip install opencage pandas plotly requests pandas #install libraries\n"
   ]
  },
  {
   "cell_type": "code",
   "execution_count": 2,
   "metadata": {},
   "outputs": [],
   "source": [
    "#import libraries here:\n",
    "import requests\n",
    "import pandas as pd"
   ]
  },
  {
   "cell_type": "code",
   "execution_count": 3,
   "metadata": {},
   "outputs": [],
   "source": [
    "url = 'https://api.open-meteo.com/v1/forecast' # api url which im using a get request\n",
    "\n",
    "def get_forecast(lat, long, forecast_d=5): #creating an api call for user's input\n",
    "    params = {\n",
    "        'latitude': lat,  \n",
    "        'longitude': long, #have to convert city to lat,long\n",
    "        'forecast_days': forecast_d, #number of days in forecast\n",
    "        'temperature_unit': 'fahrenheit', # Change unit maybe later according to user pref\n",
    "        'precipitation_unit': 'mm',\n",
    "        'windspeed_unit': 'kmh', \n",
    "        'hourly': 'temperature_2m,precipitation',\n",
    "        'timezone': 'America/New_York',  # Change according to your timezone - later user could maybe do this \n",
    "    }\n",
    "    response = requests.get(url, params=params)\n",
    "    return response.json()"
   ]
  },
  {
   "cell_type": "code",
   "execution_count": 4,
   "metadata": {},
   "outputs": [],
   "source": [
    "from opencage.geocoder import OpenCageGeocode\n",
    "key = '4e0e9443673d4093ab7e797721508ea3'  # my api key\n",
    "geocoder = OpenCageGeocode(key) #gets lat,long from city\n",
    "\n",
    "def get_cord(city):\n",
    "    response =  geocoder.geocode(city)\n",
    "    if  response:\n",
    "        if len(response):\n",
    "            return response[0]['geometry']['lat'], response[0]['geometry']['lng']\n",
    "    else:\n",
    "        print('city is not found')\n",
    "        return None, None"
   ]
  },
  {
   "cell_type": "code",
   "execution_count": 5,
   "metadata": {},
   "outputs": [],
   "source": [
    "city = input(\"Enter the city: \")  # user input\n",
    "lat, long = get_cord(city)\n",
    "\n",
    "if lat and long:\n",
    "    forecast_data = get_forecast(lat, long)\n",
    "    forecast_df = pd.DataFrame(forecast_data['hourly'])"
   ]
  },
  {
   "cell_type": "code",
   "execution_count": 6,
   "metadata": {},
   "outputs": [
    {
     "data": {
      "text/html": [
       "<div>\n",
       "<style scoped>\n",
       "    .dataframe tbody tr th:only-of-type {\n",
       "        vertical-align: middle;\n",
       "    }\n",
       "\n",
       "    .dataframe tbody tr th {\n",
       "        vertical-align: top;\n",
       "    }\n",
       "\n",
       "    .dataframe thead th {\n",
       "        text-align: right;\n",
       "    }\n",
       "</style>\n",
       "<table border=\"1\" class=\"dataframe\">\n",
       "  <thead>\n",
       "    <tr style=\"text-align: right;\">\n",
       "      <th></th>\n",
       "      <th>time</th>\n",
       "      <th>temperature_2m</th>\n",
       "      <th>precipitation</th>\n",
       "    </tr>\n",
       "  </thead>\n",
       "  <tbody>\n",
       "    <tr>\n",
       "      <th>0</th>\n",
       "      <td>2023-06-07T00:00</td>\n",
       "      <td>62.5</td>\n",
       "      <td>0.0</td>\n",
       "    </tr>\n",
       "    <tr>\n",
       "      <th>1</th>\n",
       "      <td>2023-06-07T01:00</td>\n",
       "      <td>60.5</td>\n",
       "      <td>0.0</td>\n",
       "    </tr>\n",
       "    <tr>\n",
       "      <th>2</th>\n",
       "      <td>2023-06-07T02:00</td>\n",
       "      <td>58.4</td>\n",
       "      <td>0.0</td>\n",
       "    </tr>\n",
       "    <tr>\n",
       "      <th>3</th>\n",
       "      <td>2023-06-07T03:00</td>\n",
       "      <td>57.5</td>\n",
       "      <td>0.0</td>\n",
       "    </tr>\n",
       "    <tr>\n",
       "      <th>4</th>\n",
       "      <td>2023-06-07T04:00</td>\n",
       "      <td>56.0</td>\n",
       "      <td>0.0</td>\n",
       "    </tr>\n",
       "    <tr>\n",
       "      <th>...</th>\n",
       "      <td>...</td>\n",
       "      <td>...</td>\n",
       "      <td>...</td>\n",
       "    </tr>\n",
       "    <tr>\n",
       "      <th>115</th>\n",
       "      <td>2023-06-11T19:00</td>\n",
       "      <td>72.5</td>\n",
       "      <td>0.0</td>\n",
       "    </tr>\n",
       "    <tr>\n",
       "      <th>116</th>\n",
       "      <td>2023-06-11T20:00</td>\n",
       "      <td>72.0</td>\n",
       "      <td>0.0</td>\n",
       "    </tr>\n",
       "    <tr>\n",
       "      <th>117</th>\n",
       "      <td>2023-06-11T21:00</td>\n",
       "      <td>71.3</td>\n",
       "      <td>0.0</td>\n",
       "    </tr>\n",
       "    <tr>\n",
       "      <th>118</th>\n",
       "      <td>2023-06-11T22:00</td>\n",
       "      <td>70.0</td>\n",
       "      <td>0.0</td>\n",
       "    </tr>\n",
       "    <tr>\n",
       "      <th>119</th>\n",
       "      <td>2023-06-11T23:00</td>\n",
       "      <td>68.4</td>\n",
       "      <td>0.0</td>\n",
       "    </tr>\n",
       "  </tbody>\n",
       "</table>\n",
       "<p>120 rows × 3 columns</p>\n",
       "</div>"
      ],
      "text/plain": [
       "                 time  temperature_2m  precipitation\n",
       "0    2023-06-07T00:00            62.5            0.0\n",
       "1    2023-06-07T01:00            60.5            0.0\n",
       "2    2023-06-07T02:00            58.4            0.0\n",
       "3    2023-06-07T03:00            57.5            0.0\n",
       "4    2023-06-07T04:00            56.0            0.0\n",
       "..                ...             ...            ...\n",
       "115  2023-06-11T19:00            72.5            0.0\n",
       "116  2023-06-11T20:00            72.0            0.0\n",
       "117  2023-06-11T21:00            71.3            0.0\n",
       "118  2023-06-11T22:00            70.0            0.0\n",
       "119  2023-06-11T23:00            68.4            0.0\n",
       "\n",
       "[120 rows x 3 columns]"
      ]
     },
     "execution_count": 6,
     "metadata": {},
     "output_type": "execute_result"
    }
   ],
   "source": [
    "forecast_df #print out 5 day forecast"
   ]
  }
 ],
 "metadata": {
  "kernelspec": {
   "display_name": "Python 3",
   "language": "python",
   "name": "python3"
  },
  "language_info": {
   "codemirror_mode": {
    "name": "ipython",
    "version": 3
   },
   "file_extension": ".py",
   "mimetype": "text/x-python",
   "name": "python",
   "nbconvert_exporter": "python",
   "pygments_lexer": "ipython3",
   "version": "3.9.6"
  },
  "orig_nbformat": 4
 },
 "nbformat": 4,
 "nbformat_minor": 2
}
